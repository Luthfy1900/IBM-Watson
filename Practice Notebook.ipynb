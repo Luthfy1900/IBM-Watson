{
    "cells": [
        {
            "metadata": {
                "collapsed": true
            },
            "cell_type": "markdown",
            "source": "# This is my Jupyter Notebook in IBM Watson Studio"
        },
        {
            "metadata": {},
            "cell_type": "markdown",
            "source": "### Luthfy Es-haq"
        },
        {
            "metadata": {},
            "cell_type": "markdown",
            "source": "#### I'm not an AI, I'm human."
        },
        {
            "metadata": {},
            "cell_type": "markdown",
            "source": "#### I love data science because I have realized how important data is to decisions making."
        },
        {
            "metadata": {},
            "cell_type": "markdown",
            "source": "## The following code is a small calculator for calculating normal hours and overtime hours using functions and the resulting pay"
        },
        {
            "metadata": {},
            "cell_type": "code",
            "source": "hrs = float(input(\"Regular Hours:\"))\nrate = float(input(\"Enter Rate:\"))\novertime = float(input(\"Extra Hours:\"))",
            "execution_count": 5,
            "outputs": [
                {
                    "output_type": "stream",
                    "name": "stdout",
                    "text": "Regular Hours:40\nEnter Rate:15\nExtra Hours:2\n"
                }
            ]
        },
        {
            "metadata": {},
            "cell_type": "code",
            "source": "def computepay(hrs, rate, overtime):\n    Pay = float(overtime * 1.5 * rate + (hrs * rate))\n    Pass = hrs * rate\n    if hrs == 40 and overtime == 0:\n        return Pass\n    else:\n        if overtime >= 1:\n            return Pay",
            "execution_count": 6,
            "outputs": []
        },
        {
            "metadata": {},
            "cell_type": "code",
            "source": "p = computepay(hrs, rate, overtime)\nprint(\"$\",p)",
            "execution_count": 7,
            "outputs": [
                {
                    "output_type": "stream",
                    "text": "$ 645.0\n",
                    "name": "stdout"
                }
            ]
        },
        {
            "metadata": {},
            "cell_type": "markdown",
            "source": "## There are four things to note here\n* You have to set inputs in your code at a global scope\n* Have a function to incompass those inputs (local scope)\n* Finally have a varibale that can call that function in this case it's varibale p\n* Then print out the result"
        }
    ],
    "metadata": {
        "kernelspec": {
            "name": "python3",
            "display_name": "Python 3.9",
            "language": "python"
        },
        "language_info": {
            "name": "python",
            "version": "3.9.7",
            "mimetype": "text/x-python",
            "codemirror_mode": {
                "name": "ipython",
                "version": 3
            },
            "pygments_lexer": "ipython3",
            "nbconvert_exporter": "python",
            "file_extension": ".py"
        }
    },
    "nbformat": 4,
    "nbformat_minor": 1
}